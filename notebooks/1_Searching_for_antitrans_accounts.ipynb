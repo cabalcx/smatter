{
 "cells": [
  {
   "cell_type": "markdown",
   "metadata": {},
   "source": [
    "# Exploratory notebook with SMAT\n",
    "Testing out our ability to query SMAT data via the API and analyze it in a notebook."
   ]
  },
  {
   "cell_type": "code",
   "execution_count": null,
   "metadata": {},
   "outputs": [],
   "source": [
    "%pip install -e .."
   ]
  },
  {
   "cell_type": "markdown",
   "metadata": {},
   "source": [
    "Let's import the API library:"
   ]
  },
  {
   "cell_type": "code",
   "execution_count": 2,
   "metadata": {},
   "outputs": [],
   "source": [
    "from smatter.api import SMAT"
   ]
  },
  {
   "cell_type": "markdown",
   "metadata": {},
   "source": [
    "And create an instance of our SMAT client."
   ]
  },
  {
   "cell_type": "code",
   "execution_count": 3,
   "metadata": {},
   "outputs": [],
   "source": [
    "s = SMAT()"
   ]
  },
  {
   "cell_type": "markdown",
   "metadata": {},
   "source": [
    "# Searching for `gendermapper`\n",
    "\n",
    "We first heard about anti-trans account `GenderMapper` from [this tweet](https://twitter.com/esqueer_/status/1574053263904759809) [[archived]](https://archive.ph/S6UMQ). We want to understand how pervasive this account might be in the places collected by SMAT."
   ]
  },
  {
   "cell_type": "markdown",
   "metadata": {},
   "source": [
    "We can start with a quick timeseries for the term `gendermapper`."
   ]
  },
  {
   "cell_type": "code",
   "execution_count": 4,
   "metadata": {},
   "outputs": [],
   "source": [
    "timeseries_gendermapper = s.timeseries(term='gendermapper')"
   ]
  },
  {
   "cell_type": "markdown",
   "metadata": {},
   "source": [
    "Did we get content back?"
   ]
  },
  {
   "cell_type": "code",
   "execution_count": 5,
   "metadata": {},
   "outputs": [
    {
     "data": {
      "text/plain": [
       "{'created_key': 'createdAtformatted',\n",
       " 'took': 5,\n",
       " 'timed_out': False,\n",
       " '_shards': {'total': 28, 'successful': 28, 'skipped': 0, 'failed': 0},\n",
       " 'hits': {'total': {'value': 0, 'relation': 'eq'},\n",
       "  'max_score': None,\n",
       "  'hits': []},\n",
       " 'aggregations': {'createdAtformatted': {'buckets': []}}}"
      ]
     },
     "execution_count": 5,
     "metadata": {},
     "output_type": "execute_result"
    }
   ],
   "source": [
    "timeseries_gendermapper"
   ]
  },
  {
   "cell_type": "markdown",
   "metadata": {},
   "source": [
    "Meh. We should probably expand our search on two fronts: expanding the `site` paramater with more sites, and expanding the time window with the `since` and `until` parameters."
   ]
  },
  {
   "cell_type": "markdown",
   "metadata": {},
   "source": [
    "Let's first determine the \"now\" timestamp in the proper format for SMAT. We can also use `timedelta` for a 2 year time window."
   ]
  },
  {
   "cell_type": "code",
   "execution_count": 6,
   "metadata": {},
   "outputs": [],
   "source": [
    "import datetime\n",
    "\n",
    "now = datetime.datetime.utcnow()\n",
    "now_minus_2y = now - datetime.timedelta(days=730)\n",
    "\n",
    "now = now.strftime('%Y-%m-%dT%H:%M:%S.%f')\n",
    "now_minus_2y = now_minus_2y.strftime('%Y-%m-%dT%H:%M:%S.%f')"
   ]
  },
  {
   "cell_type": "markdown",
   "metadata": {},
   "source": [
    "Now let's expand our sites. We can actually see our valid sites with the `SMAT.SITES` variable."
   ]
  },
  {
   "cell_type": "code",
   "execution_count": 8,
   "metadata": {},
   "outputs": [
    {
     "data": {
      "text/plain": [
       "['rumble_video',\n",
       " 'rumble_comment',\n",
       " 'bitchute_video',\n",
       " 'bitchute_comment',\n",
       " 'rutube_video',\n",
       " 'rutube_comment',\n",
       " 'tiktok_video',\n",
       " 'tiktok_comment',\n",
       " 'lbry_video',\n",
       " 'lbry_comment',\n",
       " '8kun',\n",
       " '4chan',\n",
       " 'gab',\n",
       " 'parler',\n",
       " 'win',\n",
       " 'poal',\n",
       " 'telegram',\n",
       " 'kiwifarms',\n",
       " 'gettr',\n",
       " 'wimkin',\n",
       " 'mewe',\n",
       " 'minds',\n",
       " 'vk',\n",
       " 'truth_social']"
      ]
     },
     "execution_count": 8,
     "metadata": {},
     "output_type": "execute_result"
    }
   ],
   "source": [
    "s.SITES"
   ]
  },
  {
   "cell_type": "markdown",
   "metadata": {},
   "source": [
    "Let's just pass all of those as are in-scope sites for the query."
   ]
  },
  {
   "cell_type": "markdown",
   "metadata": {},
   "source": [
    "So, let's start it over:"
   ]
  },
  {
   "cell_type": "code",
   "execution_count": 15,
   "metadata": {},
   "outputs": [],
   "source": [
    "timeseries_gendermapper_2 = s.timeseries(\n",
    "    term='gendermapper',\n",
    "    site = s.SITES,\n",
    "    since = now_minus_2y,\n",
    "    until = now\n",
    ")"
   ]
  },
  {
   "cell_type": "markdown",
   "metadata": {},
   "source": [
    "Let's see what we got!"
   ]
  },
  {
   "cell_type": "code",
   "execution_count": 16,
   "metadata": {},
   "outputs": [
    {
     "data": {
      "text/plain": [
       "{'created_key': 'created_at',\n",
       " 'took': 538,\n",
       " 'timed_out': False,\n",
       " '_shards': {'total': 5, 'successful': 5, 'skipped': 0, 'failed': 0},\n",
       " 'hits': {'total': {'value': 0, 'relation': 'eq'},\n",
       "  'max_score': None,\n",
       "  'hits': []},\n",
       " 'aggregations': {'created_at': {'buckets': []}}}"
      ]
     },
     "execution_count": 16,
     "metadata": {},
     "output_type": "execute_result"
    }
   ],
   "source": [
    "timeseries_gendermapper_2"
   ]
  },
  {
   "cell_type": "markdown",
   "metadata": {},
   "source": [
    "NOTHING! hahahahaha shit."
   ]
  },
  {
   "cell_type": "markdown",
   "metadata": {},
   "source": []
  }
 ],
 "metadata": {
  "kernelspec": {
   "display_name": "Python 3.10.6 64-bit",
   "language": "python",
   "name": "python3"
  },
  "language_info": {
   "codemirror_mode": {
    "name": "ipython",
    "version": 3
   },
   "file_extension": ".py",
   "mimetype": "text/x-python",
   "name": "python",
   "nbconvert_exporter": "python",
   "pygments_lexer": "ipython3",
   "version": "3.10.6"
  },
  "orig_nbformat": 4,
  "vscode": {
   "interpreter": {
    "hash": "b0fa6594d8f4cbf19f97940f81e996739fb7646882a419484c72d19e05852a7e"
   }
  }
 },
 "nbformat": 4,
 "nbformat_minor": 2
}
