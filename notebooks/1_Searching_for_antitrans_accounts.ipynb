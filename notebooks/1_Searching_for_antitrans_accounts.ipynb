{
 "cells": [
  {
   "cell_type": "markdown",
   "metadata": {},
   "source": [
    "# Exploratory notebook with SMAT\n",
    "Testing out our ability to query SMAT data via the API and analyze it in a notebook."
   ]
  },
  {
   "cell_type": "code",
   "execution_count": null,
   "metadata": {},
   "outputs": [],
   "source": [
    "%pip install -e .."
   ]
  },
  {
   "cell_type": "markdown",
   "metadata": {},
   "source": [
    "Let's import the API library:"
   ]
  },
  {
   "cell_type": "code",
   "execution_count": 1,
   "metadata": {},
   "outputs": [],
   "source": [
    "from smatter.api import SMAT"
   ]
  },
  {
   "cell_type": "markdown",
   "metadata": {},
   "source": [
    "And create an instance of our SMAT client."
   ]
  },
  {
   "cell_type": "code",
   "execution_count": 2,
   "metadata": {},
   "outputs": [],
   "source": [
    "s = SMAT()"
   ]
  },
  {
   "cell_type": "markdown",
   "metadata": {},
   "source": [
    "# Searching for `gendermapper`\n",
    "\n",
    "We first heard about anti-trans account `GenderMapper` from [this tweet](https://twitter.com/esqueer_/status/1574053263904759809) [[archived]](https://archive.ph/S6UMQ). We want to understand how pervasive this account might be in the places collected by SMAT."
   ]
  },
  {
   "cell_type": "markdown",
   "metadata": {},
   "source": [
    "We can start with a quick timeseries for the term `gendermapper`."
   ]
  },
  {
   "cell_type": "code",
   "execution_count": 3,
   "metadata": {},
   "outputs": [],
   "source": [
    "timeseries_gendermapper = s.timeseries(term='gendermapper')"
   ]
  },
  {
   "cell_type": "markdown",
   "metadata": {},
   "source": [
    "Did we get content back?"
   ]
  },
  {
   "cell_type": "code",
   "execution_count": 4,
   "metadata": {},
   "outputs": [
    {
     "data": {
      "text/plain": [
       "{'created_key': 'createdAtformatted',\n",
       " 'took': 5,\n",
       " 'timed_out': False,\n",
       " '_shards': {'total': 28, 'successful': 28, 'skipped': 0, 'failed': 0},\n",
       " 'hits': {'total': {'value': 0, 'relation': 'eq'},\n",
       "  'max_score': None,\n",
       "  'hits': []},\n",
       " 'aggregations': {'createdAtformatted': {'buckets': []}}}"
      ]
     },
     "execution_count": 4,
     "metadata": {},
     "output_type": "execute_result"
    }
   ],
   "source": [
    "timeseries_gendermapper"
   ]
  },
  {
   "cell_type": "markdown",
   "metadata": {},
   "source": [
    "Meh. We should probably expand our search on two fronts: expanding the `site` paramater with more sites, and expanding the time window with the `since` and `until` parameters."
   ]
  },
  {
   "cell_type": "markdown",
   "metadata": {},
   "source": [
    "Let's first determine the \"now\" timestamp in the proper format for SMAT. We can also use `timedelta` for a 2 year time window."
   ]
  },
  {
   "cell_type": "code",
   "execution_count": 5,
   "metadata": {},
   "outputs": [],
   "source": [
    "import datetime\n",
    "\n",
    "now = datetime.datetime.utcnow()\n",
    "now_minus_2y = now - datetime.timedelta(days=730)\n",
    "\n",
    "now = now.strftime('%Y-%m-%dT%H:%M:%S.%f')\n",
    "now_minus_2y = now_minus_2y.strftime('%Y-%m-%dT%H:%M:%S.%f')"
   ]
  },
  {
   "cell_type": "markdown",
   "metadata": {},
   "source": [
    "Now let's expand our sites. We can actually see our valid sites with the `SMAT.SITES` variable."
   ]
  },
  {
   "cell_type": "code",
   "execution_count": 7,
   "metadata": {},
   "outputs": [
    {
     "data": {
      "text/plain": [
       "['rumble_video',\n",
       " 'rumble_comment',\n",
       " 'bitchute_video',\n",
       " 'bitchute_comment',\n",
       " 'rutube_video',\n",
       " 'rutube_comment',\n",
       " 'tiktok_video',\n",
       " 'tiktok_comment',\n",
       " 'lbry_video',\n",
       " 'lbry_comment',\n",
       " '8kun',\n",
       " '4chan',\n",
       " 'gab',\n",
       " 'parler',\n",
       " 'win',\n",
       " 'poal',\n",
       " 'telegram',\n",
       " 'kiwifarms',\n",
       " 'gettr',\n",
       " 'wimkin',\n",
       " 'mewe',\n",
       " 'minds',\n",
       " 'vk',\n",
       " 'truth_social']"
      ]
     },
     "execution_count": 7,
     "metadata": {},
     "output_type": "execute_result"
    }
   ],
   "source": [
    "s.SMAT_SITES"
   ]
  },
  {
   "cell_type": "markdown",
   "metadata": {},
   "source": [
    "Let's just pass all of those as are in-scope sites for the query."
   ]
  },
  {
   "cell_type": "markdown",
   "metadata": {},
   "source": [
    "So, let's start it over:"
   ]
  },
  {
   "cell_type": "code",
   "execution_count": 9,
   "metadata": {},
   "outputs": [],
   "source": [
    "timeseries_gendermapper_2 = s.timeseries(\n",
    "    term='gendermapper',\n",
    "    site = 'parler',\n",
    "    since = now_minus_2y,\n",
    "    until = now\n",
    ")"
   ]
  },
  {
   "cell_type": "markdown",
   "metadata": {},
   "source": [
    "Let's see what we got!"
   ]
  },
  {
   "cell_type": "code",
   "execution_count": 10,
   "metadata": {},
   "outputs": [
    {
     "data": {
      "text/plain": [
       "{'created_key': 'createdAtformatted',\n",
       " 'took': 18,\n",
       " 'timed_out': False,\n",
       " '_shards': {'total': 28, 'successful': 28, 'skipped': 0, 'failed': 0},\n",
       " 'hits': {'total': {'value': 2, 'relation': 'eq'},\n",
       "  'max_score': None,\n",
       "  'hits': []},\n",
       " 'aggregations': {'createdAtformatted': {'buckets': [{'key_as_string': '2022-01-31T00:00:00.000Z',\n",
       "     'key': 1643587200000,\n",
       "     'doc_count': 1},\n",
       "    {'key_as_string': '2022-02-01T00:00:00.000Z',\n",
       "     'key': 1643673600000,\n",
       "     'doc_count': 0},\n",
       "    {'key_as_string': '2022-02-02T00:00:00.000Z',\n",
       "     'key': 1643760000000,\n",
       "     'doc_count': 0},\n",
       "    {'key_as_string': '2022-02-03T00:00:00.000Z',\n",
       "     'key': 1643846400000,\n",
       "     'doc_count': 0},\n",
       "    {'key_as_string': '2022-02-04T00:00:00.000Z',\n",
       "     'key': 1643932800000,\n",
       "     'doc_count': 0},\n",
       "    {'key_as_string': '2022-02-05T00:00:00.000Z',\n",
       "     'key': 1644019200000,\n",
       "     'doc_count': 0},\n",
       "    {'key_as_string': '2022-02-06T00:00:00.000Z',\n",
       "     'key': 1644105600000,\n",
       "     'doc_count': 0},\n",
       "    {'key_as_string': '2022-02-07T00:00:00.000Z',\n",
       "     'key': 1644192000000,\n",
       "     'doc_count': 0},\n",
       "    {'key_as_string': '2022-02-08T00:00:00.000Z',\n",
       "     'key': 1644278400000,\n",
       "     'doc_count': 0},\n",
       "    {'key_as_string': '2022-02-09T00:00:00.000Z',\n",
       "     'key': 1644364800000,\n",
       "     'doc_count': 0},\n",
       "    {'key_as_string': '2022-02-10T00:00:00.000Z',\n",
       "     'key': 1644451200000,\n",
       "     'doc_count': 0},\n",
       "    {'key_as_string': '2022-02-11T00:00:00.000Z',\n",
       "     'key': 1644537600000,\n",
       "     'doc_count': 0},\n",
       "    {'key_as_string': '2022-02-12T00:00:00.000Z',\n",
       "     'key': 1644624000000,\n",
       "     'doc_count': 0},\n",
       "    {'key_as_string': '2022-02-13T00:00:00.000Z',\n",
       "     'key': 1644710400000,\n",
       "     'doc_count': 0},\n",
       "    {'key_as_string': '2022-02-14T00:00:00.000Z',\n",
       "     'key': 1644796800000,\n",
       "     'doc_count': 0},\n",
       "    {'key_as_string': '2022-02-15T00:00:00.000Z',\n",
       "     'key': 1644883200000,\n",
       "     'doc_count': 0},\n",
       "    {'key_as_string': '2022-02-16T00:00:00.000Z',\n",
       "     'key': 1644969600000,\n",
       "     'doc_count': 0},\n",
       "    {'key_as_string': '2022-02-17T00:00:00.000Z',\n",
       "     'key': 1645056000000,\n",
       "     'doc_count': 0},\n",
       "    {'key_as_string': '2022-02-18T00:00:00.000Z',\n",
       "     'key': 1645142400000,\n",
       "     'doc_count': 0},\n",
       "    {'key_as_string': '2022-02-19T00:00:00.000Z',\n",
       "     'key': 1645228800000,\n",
       "     'doc_count': 0},\n",
       "    {'key_as_string': '2022-02-20T00:00:00.000Z',\n",
       "     'key': 1645315200000,\n",
       "     'doc_count': 0},\n",
       "    {'key_as_string': '2022-02-21T00:00:00.000Z',\n",
       "     'key': 1645401600000,\n",
       "     'doc_count': 0},\n",
       "    {'key_as_string': '2022-02-22T00:00:00.000Z',\n",
       "     'key': 1645488000000,\n",
       "     'doc_count': 0},\n",
       "    {'key_as_string': '2022-02-23T00:00:00.000Z',\n",
       "     'key': 1645574400000,\n",
       "     'doc_count': 0},\n",
       "    {'key_as_string': '2022-02-24T00:00:00.000Z',\n",
       "     'key': 1645660800000,\n",
       "     'doc_count': 0},\n",
       "    {'key_as_string': '2022-02-25T00:00:00.000Z',\n",
       "     'key': 1645747200000,\n",
       "     'doc_count': 0},\n",
       "    {'key_as_string': '2022-02-26T00:00:00.000Z',\n",
       "     'key': 1645833600000,\n",
       "     'doc_count': 0},\n",
       "    {'key_as_string': '2022-02-27T00:00:00.000Z',\n",
       "     'key': 1645920000000,\n",
       "     'doc_count': 0},\n",
       "    {'key_as_string': '2022-02-28T00:00:00.000Z',\n",
       "     'key': 1646006400000,\n",
       "     'doc_count': 0},\n",
       "    {'key_as_string': '2022-03-01T00:00:00.000Z',\n",
       "     'key': 1646092800000,\n",
       "     'doc_count': 0},\n",
       "    {'key_as_string': '2022-03-02T00:00:00.000Z',\n",
       "     'key': 1646179200000,\n",
       "     'doc_count': 0},\n",
       "    {'key_as_string': '2022-03-03T00:00:00.000Z',\n",
       "     'key': 1646265600000,\n",
       "     'doc_count': 0},\n",
       "    {'key_as_string': '2022-03-04T00:00:00.000Z',\n",
       "     'key': 1646352000000,\n",
       "     'doc_count': 0},\n",
       "    {'key_as_string': '2022-03-05T00:00:00.000Z',\n",
       "     'key': 1646438400000,\n",
       "     'doc_count': 0},\n",
       "    {'key_as_string': '2022-03-06T00:00:00.000Z',\n",
       "     'key': 1646524800000,\n",
       "     'doc_count': 0},\n",
       "    {'key_as_string': '2022-03-07T00:00:00.000Z',\n",
       "     'key': 1646611200000,\n",
       "     'doc_count': 0},\n",
       "    {'key_as_string': '2022-03-08T00:00:00.000Z',\n",
       "     'key': 1646697600000,\n",
       "     'doc_count': 0},\n",
       "    {'key_as_string': '2022-03-09T00:00:00.000Z',\n",
       "     'key': 1646784000000,\n",
       "     'doc_count': 0},\n",
       "    {'key_as_string': '2022-03-10T00:00:00.000Z',\n",
       "     'key': 1646870400000,\n",
       "     'doc_count': 0},\n",
       "    {'key_as_string': '2022-03-11T00:00:00.000Z',\n",
       "     'key': 1646956800000,\n",
       "     'doc_count': 0},\n",
       "    {'key_as_string': '2022-03-12T00:00:00.000Z',\n",
       "     'key': 1647043200000,\n",
       "     'doc_count': 0},\n",
       "    {'key_as_string': '2022-03-13T00:00:00.000Z',\n",
       "     'key': 1647129600000,\n",
       "     'doc_count': 0},\n",
       "    {'key_as_string': '2022-03-14T00:00:00.000Z',\n",
       "     'key': 1647216000000,\n",
       "     'doc_count': 0},\n",
       "    {'key_as_string': '2022-03-15T00:00:00.000Z',\n",
       "     'key': 1647302400000,\n",
       "     'doc_count': 0},\n",
       "    {'key_as_string': '2022-03-16T00:00:00.000Z',\n",
       "     'key': 1647388800000,\n",
       "     'doc_count': 0},\n",
       "    {'key_as_string': '2022-03-17T00:00:00.000Z',\n",
       "     'key': 1647475200000,\n",
       "     'doc_count': 0},\n",
       "    {'key_as_string': '2022-03-18T00:00:00.000Z',\n",
       "     'key': 1647561600000,\n",
       "     'doc_count': 0},\n",
       "    {'key_as_string': '2022-03-19T00:00:00.000Z',\n",
       "     'key': 1647648000000,\n",
       "     'doc_count': 0},\n",
       "    {'key_as_string': '2022-03-20T00:00:00.000Z',\n",
       "     'key': 1647734400000,\n",
       "     'doc_count': 0},\n",
       "    {'key_as_string': '2022-03-21T00:00:00.000Z',\n",
       "     'key': 1647820800000,\n",
       "     'doc_count': 0},\n",
       "    {'key_as_string': '2022-03-22T00:00:00.000Z',\n",
       "     'key': 1647907200000,\n",
       "     'doc_count': 0},\n",
       "    {'key_as_string': '2022-03-23T00:00:00.000Z',\n",
       "     'key': 1647993600000,\n",
       "     'doc_count': 0},\n",
       "    {'key_as_string': '2022-03-24T00:00:00.000Z',\n",
       "     'key': 1648080000000,\n",
       "     'doc_count': 0},\n",
       "    {'key_as_string': '2022-03-25T00:00:00.000Z',\n",
       "     'key': 1648166400000,\n",
       "     'doc_count': 0},\n",
       "    {'key_as_string': '2022-03-26T00:00:00.000Z',\n",
       "     'key': 1648252800000,\n",
       "     'doc_count': 0},\n",
       "    {'key_as_string': '2022-03-27T00:00:00.000Z',\n",
       "     'key': 1648339200000,\n",
       "     'doc_count': 0},\n",
       "    {'key_as_string': '2022-03-28T00:00:00.000Z',\n",
       "     'key': 1648425600000,\n",
       "     'doc_count': 0},\n",
       "    {'key_as_string': '2022-03-29T00:00:00.000Z',\n",
       "     'key': 1648512000000,\n",
       "     'doc_count': 0},\n",
       "    {'key_as_string': '2022-03-30T00:00:00.000Z',\n",
       "     'key': 1648598400000,\n",
       "     'doc_count': 0},\n",
       "    {'key_as_string': '2022-03-31T00:00:00.000Z',\n",
       "     'key': 1648684800000,\n",
       "     'doc_count': 0},\n",
       "    {'key_as_string': '2022-04-01T00:00:00.000Z',\n",
       "     'key': 1648771200000,\n",
       "     'doc_count': 0},\n",
       "    {'key_as_string': '2022-04-02T00:00:00.000Z',\n",
       "     'key': 1648857600000,\n",
       "     'doc_count': 0},\n",
       "    {'key_as_string': '2022-04-03T00:00:00.000Z',\n",
       "     'key': 1648944000000,\n",
       "     'doc_count': 0},\n",
       "    {'key_as_string': '2022-04-04T00:00:00.000Z',\n",
       "     'key': 1649030400000,\n",
       "     'doc_count': 0},\n",
       "    {'key_as_string': '2022-04-05T00:00:00.000Z',\n",
       "     'key': 1649116800000,\n",
       "     'doc_count': 0},\n",
       "    {'key_as_string': '2022-04-06T00:00:00.000Z',\n",
       "     'key': 1649203200000,\n",
       "     'doc_count': 0},\n",
       "    {'key_as_string': '2022-04-07T00:00:00.000Z',\n",
       "     'key': 1649289600000,\n",
       "     'doc_count': 0},\n",
       "    {'key_as_string': '2022-04-08T00:00:00.000Z',\n",
       "     'key': 1649376000000,\n",
       "     'doc_count': 0},\n",
       "    {'key_as_string': '2022-04-09T00:00:00.000Z',\n",
       "     'key': 1649462400000,\n",
       "     'doc_count': 0},\n",
       "    {'key_as_string': '2022-04-10T00:00:00.000Z',\n",
       "     'key': 1649548800000,\n",
       "     'doc_count': 0},\n",
       "    {'key_as_string': '2022-04-11T00:00:00.000Z',\n",
       "     'key': 1649635200000,\n",
       "     'doc_count': 0},\n",
       "    {'key_as_string': '2022-04-12T00:00:00.000Z',\n",
       "     'key': 1649721600000,\n",
       "     'doc_count': 0},\n",
       "    {'key_as_string': '2022-04-13T00:00:00.000Z',\n",
       "     'key': 1649808000000,\n",
       "     'doc_count': 0},\n",
       "    {'key_as_string': '2022-04-14T00:00:00.000Z',\n",
       "     'key': 1649894400000,\n",
       "     'doc_count': 0},\n",
       "    {'key_as_string': '2022-04-15T00:00:00.000Z',\n",
       "     'key': 1649980800000,\n",
       "     'doc_count': 0},\n",
       "    {'key_as_string': '2022-04-16T00:00:00.000Z',\n",
       "     'key': 1650067200000,\n",
       "     'doc_count': 0},\n",
       "    {'key_as_string': '2022-04-17T00:00:00.000Z',\n",
       "     'key': 1650153600000,\n",
       "     'doc_count': 0},\n",
       "    {'key_as_string': '2022-04-18T00:00:00.000Z',\n",
       "     'key': 1650240000000,\n",
       "     'doc_count': 0},\n",
       "    {'key_as_string': '2022-04-19T00:00:00.000Z',\n",
       "     'key': 1650326400000,\n",
       "     'doc_count': 0},\n",
       "    {'key_as_string': '2022-04-20T00:00:00.000Z',\n",
       "     'key': 1650412800000,\n",
       "     'doc_count': 0},\n",
       "    {'key_as_string': '2022-04-21T00:00:00.000Z',\n",
       "     'key': 1650499200000,\n",
       "     'doc_count': 0},\n",
       "    {'key_as_string': '2022-04-22T00:00:00.000Z',\n",
       "     'key': 1650585600000,\n",
       "     'doc_count': 0},\n",
       "    {'key_as_string': '2022-04-23T00:00:00.000Z',\n",
       "     'key': 1650672000000,\n",
       "     'doc_count': 0},\n",
       "    {'key_as_string': '2022-04-24T00:00:00.000Z',\n",
       "     'key': 1650758400000,\n",
       "     'doc_count': 0},\n",
       "    {'key_as_string': '2022-04-25T00:00:00.000Z',\n",
       "     'key': 1650844800000,\n",
       "     'doc_count': 0},\n",
       "    {'key_as_string': '2022-04-26T00:00:00.000Z',\n",
       "     'key': 1650931200000,\n",
       "     'doc_count': 0},\n",
       "    {'key_as_string': '2022-04-27T00:00:00.000Z',\n",
       "     'key': 1651017600000,\n",
       "     'doc_count': 0},\n",
       "    {'key_as_string': '2022-04-28T00:00:00.000Z',\n",
       "     'key': 1651104000000,\n",
       "     'doc_count': 0},\n",
       "    {'key_as_string': '2022-04-29T00:00:00.000Z',\n",
       "     'key': 1651190400000,\n",
       "     'doc_count': 0},\n",
       "    {'key_as_string': '2022-04-30T00:00:00.000Z',\n",
       "     'key': 1651276800000,\n",
       "     'doc_count': 0},\n",
       "    {'key_as_string': '2022-05-01T00:00:00.000Z',\n",
       "     'key': 1651363200000,\n",
       "     'doc_count': 0},\n",
       "    {'key_as_string': '2022-05-02T00:00:00.000Z',\n",
       "     'key': 1651449600000,\n",
       "     'doc_count': 0},\n",
       "    {'key_as_string': '2022-05-03T00:00:00.000Z',\n",
       "     'key': 1651536000000,\n",
       "     'doc_count': 0},\n",
       "    {'key_as_string': '2022-05-04T00:00:00.000Z',\n",
       "     'key': 1651622400000,\n",
       "     'doc_count': 0},\n",
       "    {'key_as_string': '2022-05-05T00:00:00.000Z',\n",
       "     'key': 1651708800000,\n",
       "     'doc_count': 0},\n",
       "    {'key_as_string': '2022-05-06T00:00:00.000Z',\n",
       "     'key': 1651795200000,\n",
       "     'doc_count': 0},\n",
       "    {'key_as_string': '2022-05-07T00:00:00.000Z',\n",
       "     'key': 1651881600000,\n",
       "     'doc_count': 0},\n",
       "    {'key_as_string': '2022-05-08T00:00:00.000Z',\n",
       "     'key': 1651968000000,\n",
       "     'doc_count': 0},\n",
       "    {'key_as_string': '2022-05-09T00:00:00.000Z',\n",
       "     'key': 1652054400000,\n",
       "     'doc_count': 0},\n",
       "    {'key_as_string': '2022-05-10T00:00:00.000Z',\n",
       "     'key': 1652140800000,\n",
       "     'doc_count': 0},\n",
       "    {'key_as_string': '2022-05-11T00:00:00.000Z',\n",
       "     'key': 1652227200000,\n",
       "     'doc_count': 1}]}}}"
      ]
     },
     "execution_count": 10,
     "metadata": {},
     "output_type": "execute_result"
    }
   ],
   "source": [
    "timeseries_gendermapper_2"
   ]
  },
  {
   "cell_type": "markdown",
   "metadata": {},
   "source": [
    "OK! Some sites have content, other sites don't."
   ]
  },
  {
   "cell_type": "markdown",
   "metadata": {},
   "source": []
  }
 ],
 "metadata": {
  "kernelspec": {
   "display_name": "Python 3.10.6 64-bit",
   "language": "python",
   "name": "python3"
  },
  "language_info": {
   "codemirror_mode": {
    "name": "ipython",
    "version": 3
   },
   "file_extension": ".py",
   "mimetype": "text/x-python",
   "name": "python",
   "nbconvert_exporter": "python",
   "pygments_lexer": "ipython3",
   "version": "3.10.6"
  },
  "orig_nbformat": 4,
  "vscode": {
   "interpreter": {
    "hash": "b0fa6594d8f4cbf19f97940f81e996739fb7646882a419484c72d19e05852a7e"
   }
  }
 },
 "nbformat": 4,
 "nbformat_minor": 2
}
